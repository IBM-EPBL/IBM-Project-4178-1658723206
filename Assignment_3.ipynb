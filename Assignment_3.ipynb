{
  "nbformat": 4,
  "nbformat_minor": 0,
  "metadata": {
    "colab": {
      "provenance": [],
      "collapsed_sections": [],
      "include_colab_link": true
    },
    "kernelspec": {
      "name": "python3",
      "display_name": "Python 3"
    },
    "language_info": {
      "name": "python"
    }
  },
  "cells": [
    {
      "cell_type": "markdown",
      "metadata": {
        "id": "view-in-github",
        "colab_type": "text"
      },
      "source": [
        "<a href=\"https://colab.research.google.com/github/IBM-EPBL/IBM-Project-4178-1658723206/blob/main/Assignment_3.ipynb\" target=\"_parent\"><img src=\"https://colab.research.google.com/assets/colab-badge.svg\" alt=\"Open In Colab\"/></a>"
      ]
    },
    {
      "cell_type": "code",
      "execution_count": 1,
      "metadata": {
        "colab": {
          "base_uri": "https://localhost:8080/"
        },
        "id": "_KlkAdSpJjFj",
        "outputId": "f5ca2313-4b7d-4f42-889a-f37c79bdb88c"
      },
      "outputs": [
        {
          "output_type": "execute_result",
          "data": {
            "text/plain": [
              "2401"
            ]
          },
          "metadata": {},
          "execution_count": 1
        }
      ],
      "source": [
        "pow(7,4)"
      ]
    },
    {
      "cell_type": "code",
      "source": [
        "s = \"Hi there Sam!\""
      ],
      "metadata": {
        "id": "21kIwDc1KDqh"
      },
      "execution_count": 2,
      "outputs": []
    },
    {
      "cell_type": "code",
      "source": [
        "spt = s.split(\", \")\n",
        "print(spt)"
      ],
      "metadata": {
        "colab": {
          "base_uri": "https://localhost:8080/"
        },
        "id": "BvhqZ-nNKDtn",
        "outputId": "1d766db0-5fbb-415d-ec0a-8e4501b95c2a"
      },
      "execution_count": 3,
      "outputs": [
        {
          "output_type": "stream",
          "name": "stdout",
          "text": [
            "['Hi there Sam!']\n"
          ]
        }
      ]
    },
    {
      "cell_type": "code",
      "source": [
        "planet = \"Earth\"\n",
        "diameter = 12742\n",
        "print(\"The diameter of {planet} is {diameter} kilometers.\" .format(planet=\"Earth\" , diameter=12742))"
      ],
      "metadata": {
        "colab": {
          "base_uri": "https://localhost:8080/"
        },
        "id": "xjodfTH5KDwf",
        "outputId": "44790258-e582-4fe8-e967-6b33a9c5e3c8"
      },
      "execution_count": 4,
      "outputs": [
        {
          "output_type": "stream",
          "name": "stdout",
          "text": [
            "The diameter of Earth is 12742 kilometers.\n"
          ]
        }
      ]
    },
    {
      "cell_type": "code",
      "source": [
        "lst = [1,2,[3,4],[5,[100,200,['hello']],23,11],1,7]\n",
        "print(lst[3][1][2][0])"
      ],
      "metadata": {
        "colab": {
          "base_uri": "https://localhost:8080/"
        },
        "id": "KRsCtWArKDzY",
        "outputId": "f20c019f-e954-4c56-efc4-70cbffee77bf"
      },
      "execution_count": 5,
      "outputs": [
        {
          "output_type": "stream",
          "name": "stdout",
          "text": [
            "hello\n"
          ]
        }
      ]
    },
    {
      "cell_type": "code",
      "source": [
        "d = {'k1':[1,2,3,{'tricky':['oh','man','inception',{'target':[1,2,3,'hello']}]}]}\n",
        "print(d[\"k1\"][3][\"tricky\"][3][\"target\"][3])"
      ],
      "metadata": {
        "colab": {
          "base_uri": "https://localhost:8080/"
        },
        "id": "5iWjz51yKD2D",
        "outputId": "d588c343-0490-4d58-c168-e68459aedb10"
      },
      "execution_count": 6,
      "outputs": [
        {
          "output_type": "stream",
          "name": "stdout",
          "text": [
            "hello\n"
          ]
        }
      ]
    },
    {
      "cell_type": "code",
      "source": [
        "def domainGet(email):\n",
        " return email.split('@')[-1]\n",
        "domainGet('user@domain.com')\n"
      ],
      "metadata": {
        "colab": {
          "base_uri": "https://localhost:8080/",
          "height": 36
        },
        "id": "0pi2U9tIKD7c",
        "outputId": "80136039-de55-4fe7-da64-fcbada7f91cb"
      },
      "execution_count": 7,
      "outputs": [
        {
          "output_type": "execute_result",
          "data": {
            "text/plain": [
              "'domain.com'"
            ],
            "application/vnd.google.colaboratory.intrinsic+json": {
              "type": "string"
            }
          },
          "metadata": {},
          "execution_count": 7
        }
      ]
    },
    {
      "cell_type": "code",
      "source": [
        "def animal(st):\n",
        " for word in st.lower().split():\n",
        "  if word=='dog':\n",
        "   return True\n",
        "animal(\"dog is my favourite pet\")"
      ],
      "metadata": {
        "colab": {
          "base_uri": "https://localhost:8080/"
        },
        "id": "K-4ub5sKKD-0",
        "outputId": "6be14ca6-7104-40c7-cadc-b8edbcd07c3f"
      },
      "execution_count": 8,
      "outputs": [
        {
          "output_type": "execute_result",
          "data": {
            "text/plain": [
              "True"
            ]
          },
          "metadata": {},
          "execution_count": 8
        }
      ]
    },
    {
      "cell_type": "markdown",
      "source": [],
      "metadata": {
        "id": "hELDhAbXTayN"
      }
    },
    {
      "cell_type": "code",
      "source": [
        "def animal(st):\n",
        " count=0\n",
        " for word in st.lower().split():\n",
        "   if word=='dog':\n",
        "    count+=1\n",
        " return count\n",
        "animal(\"German Shepard dog is the strongest dog\")"
      ],
      "metadata": {
        "colab": {
          "base_uri": "https://localhost:8080/"
        },
        "id": "SVni-N4tKEBW",
        "outputId": "b41a37b6-7499-4aec-a366-08ed0b0f83e8"
      },
      "execution_count": 9,
      "outputs": [
        {
          "output_type": "execute_result",
          "data": {
            "text/plain": [
              "2"
            ]
          },
          "metadata": {},
          "execution_count": 9
        }
      ]
    },
    {
      "cell_type": "code",
      "source": [
        "def caught_speeding(speed, is_birthday):\n",
        " if is_birthday:\n",
        "  speeding = speed - 5\n",
        " else:\n",
        "  speeding = speed\n",
        " if speeding > 80:\n",
        "   return 'Big Ticket'\n",
        " elif speeding > 60:\n",
        "  return 'Small Ticket'\n",
        " else:\n",
        "   return 'No Ticket'\n",
        "caught_speeding(81, False)"
      ],
      "metadata": {
        "colab": {
          "base_uri": "https://localhost:8080/",
          "height": 36
        },
        "id": "QVOkKozbKEEB",
        "outputId": "9dac81b2-3102-4576-ae60-c7cfedaef515"
      },
      "execution_count": 10,
      "outputs": [
        {
          "output_type": "execute_result",
          "data": {
            "text/plain": [
              "'Big Ticket'"
            ],
            "application/vnd.google.colaboratory.intrinsic+json": {
              "type": "string"
            }
          },
          "metadata": {},
          "execution_count": 10
        }
      ]
    },
    {
      "cell_type": "code",
      "source": [
        "dict1={ \n",
        " 'Empid': 1001, \n",
        " 'Empname': 'Ashok', \n",
        " 'Basicpay': 20000 \n",
        "} \n",
        "dict2={ \n",
        " 'DepName': 'Testing', \n",
        " 'DeptID': 120 \n",
        "} \n",
        "dict3 = dict1.copy() \n",
        "dict3.update(dict2) \n",
        "print(dict3) \n"
      ],
      "metadata": {
        "colab": {
          "base_uri": "https://localhost:8080/"
        },
        "id": "-WKD0XnAKEHp",
        "outputId": "558f52ad-0e5e-4a63-b165-ae52b878d06b"
      },
      "execution_count": 11,
      "outputs": [
        {
          "output_type": "stream",
          "name": "stdout",
          "text": [
            "{'Empid': 1001, 'Empname': 'Ashok', 'Basicpay': 20000, 'DepName': 'Testing', 'DeptID': 120}\n"
          ]
        }
      ]
    },
    {
      "cell_type": "code",
      "source": [
        "LIST:  1) List is dynamic\n",
        "       2) List can be modified\n",
        "TUPLE: 1) Tuple is static\n",
        "       2) Tuple cannot be modified"
      ],
      "metadata": {
        "id": "PfNrGvfYWpkR"
      },
      "execution_count": null,
      "outputs": []
    }
  ]
}